{
 "cells": [
  {
   "cell_type": "code",
   "execution_count": 1,
   "id": "6f620a88",
   "metadata": {},
   "outputs": [
    {
     "name": "stdout",
     "output_type": "stream",
     "text": [
      "                  Formatted Date        Summary Precip Type  Temperature (C)  \\\n",
      "0  2006-04-01 00:00:00.000 +0200  Partly Cloudy        rain         9.472222   \n",
      "1  2006-04-01 01:00:00.000 +0200  Partly Cloudy        rain         9.355556   \n",
      "2  2006-04-01 02:00:00.000 +0200  Mostly Cloudy        rain         9.377778   \n",
      "3  2006-04-01 03:00:00.000 +0200  Partly Cloudy        rain         8.288889   \n",
      "4  2006-04-01 04:00:00.000 +0200  Mostly Cloudy        rain         8.755556   \n",
      "\n",
      "   Apparent Temperature (C)  Humidity  Wind Speed (km/h)  \\\n",
      "0                  7.388889      0.89            14.1197   \n",
      "1                  7.227778      0.86            14.2646   \n",
      "2                  9.377778      0.89             3.9284   \n",
      "3                  5.944444      0.83            14.1036   \n",
      "4                  6.977778      0.83            11.0446   \n",
      "\n",
      "   Wind Bearing (degrees)  Visibility (km)  Loud Cover  Pressure (millibars)  \\\n",
      "0                   251.0          15.8263         0.0               1015.13   \n",
      "1                   259.0          15.8263         0.0               1015.63   \n",
      "2                   204.0          14.9569         0.0               1015.94   \n",
      "3                   269.0          15.8263         0.0               1016.41   \n",
      "4                   259.0          15.8263         0.0               1016.51   \n",
      "\n",
      "                       Daily Summary  \n",
      "0  Partly cloudy throughout the day.  \n",
      "1  Partly cloudy throughout the day.  \n",
      "2  Partly cloudy throughout the day.  \n",
      "3  Partly cloudy throughout the day.  \n",
      "4  Partly cloudy throughout the day.  \n",
      "<class 'pandas.core.frame.DataFrame'>\n",
      "RangeIndex: 96453 entries, 0 to 96452\n",
      "Data columns (total 12 columns):\n",
      " #   Column                    Non-Null Count  Dtype  \n",
      "---  ------                    --------------  -----  \n",
      " 0   Formatted Date            96453 non-null  object \n",
      " 1   Summary                   96453 non-null  object \n",
      " 2   Precip Type               95936 non-null  object \n",
      " 3   Temperature (C)           96453 non-null  float64\n",
      " 4   Apparent Temperature (C)  96453 non-null  float64\n",
      " 5   Humidity                  96453 non-null  float64\n",
      " 6   Wind Speed (km/h)         96453 non-null  float64\n",
      " 7   Wind Bearing (degrees)    96453 non-null  float64\n",
      " 8   Visibility (km)           96453 non-null  float64\n",
      " 9   Loud Cover                96453 non-null  float64\n",
      " 10  Pressure (millibars)      96453 non-null  float64\n",
      " 11  Daily Summary             96453 non-null  object \n",
      "dtypes: float64(8), object(4)\n",
      "memory usage: 8.8+ MB\n",
      "None\n"
     ]
    }
   ],
   "source": [
    "import pandas as pd\n",
    "\n",
    "df = pd.read_csv(\"d:\\dataprocess\\weatherHistory.csv\")\n",
    "print(df.head())\n",
    "print(df.info())\n"
   ]
  },
  {
   "cell_type": "code",
   "execution_count": 2,
   "id": "1432e108",
   "metadata": {},
   "outputs": [
    {
     "name": "stdout",
     "output_type": "stream",
     "text": [
      "Formatted Date                0\n",
      "Summary                       0\n",
      "Precip Type                 517\n",
      "Temperature (C)               0\n",
      "Apparent Temperature (C)      0\n",
      "Humidity                      0\n",
      "Wind Speed (km/h)             0\n",
      "Wind Bearing (degrees)        0\n",
      "Visibility (km)               0\n",
      "Loud Cover                    0\n",
      "Pressure (millibars)          0\n",
      "Daily Summary                 0\n",
      "dtype: int64\n"
     ]
    }
   ],
   "source": [
    "print(df.isnull().sum())"
   ]
  },
  {
   "cell_type": "code",
   "execution_count": 3,
   "id": "46c5e085",
   "metadata": {},
   "outputs": [
    {
     "name": "stdout",
     "output_type": "stream",
     "text": [
      "Formatted Date              0\n",
      "Summary                     0\n",
      "Precip Type                 0\n",
      "Temperature (C)             0\n",
      "Apparent Temperature (C)    0\n",
      "Humidity                    0\n",
      "Wind Speed (km/h)           0\n",
      "Wind Bearing (degrees)      0\n",
      "Visibility (km)             0\n",
      "Loud Cover                  0\n",
      "Pressure (millibars)        0\n",
      "Daily Summary               0\n",
      "dtype: int64\n"
     ]
    },
    {
     "name": "stderr",
     "output_type": "stream",
     "text": [
      "C:\\Users\\ADMIN\\AppData\\Local\\Temp\\ipykernel_904\\439660584.py:1: FutureWarning: A value is trying to be set on a copy of a DataFrame or Series through chained assignment using an inplace method.\n",
      "The behavior will change in pandas 3.0. This inplace method will never work because the intermediate object on which we are setting values always behaves as a copy.\n",
      "\n",
      "For example, when doing 'df[col].method(value, inplace=True)', try using 'df.method({col: value}, inplace=True)' or df[col] = df[col].method(value) instead, to perform the operation inplace on the original object.\n",
      "\n",
      "\n",
      "  df['Precip Type'].fillna(df['Precip Type'].mode()[0],inplace=True)\n"
     ]
    }
   ],
   "source": [
    "df['Precip Type'].fillna(df['Precip Type'].mode()[0],inplace=True)\n",
    "print(df.isnull().sum())"
   ]
  },
  {
   "cell_type": "code",
   "execution_count": 4,
   "id": "38148463",
   "metadata": {},
   "outputs": [],
   "source": [
    "from sklearn.preprocessing import LabelEncoder\n",
    "\n",
    "df['Summary'] = LabelEncoder().fit_transform(df['Summary'])"
   ]
  },
  {
   "cell_type": "code",
   "execution_count": 5,
   "id": "a2d0ddfb",
   "metadata": {},
   "outputs": [],
   "source": [
    "from sklearn.preprocessing import LabelEncoder\n",
    "\n",
    "df['Precip Type'] = LabelEncoder().fit_transform(df['Precip Type'])"
   ]
  },
  {
   "cell_type": "code",
   "execution_count": 6,
   "id": "14d6a374",
   "metadata": {},
   "outputs": [],
   "source": [
    "from sklearn.preprocessing import LabelEncoder\n",
    "\n",
    "df['Daily Summary'] = LabelEncoder().fit_transform(df['Daily Summary'])"
   ]
  },
  {
   "cell_type": "code",
   "execution_count": 7,
   "id": "0ee8ebaf",
   "metadata": {},
   "outputs": [],
   "source": [
    "from sklearn.preprocessing import StandardScaler   \n",
    "\n",
    "scaler = StandardScaler()                         \n",
    "df[[\"Summary\", \"Precip Type\", \"Daily Summary\"]] = scaler.fit_transform(df[[\"Summary\", \"Precip Type\", \"Daily Summary\"]])                                                  \n"
   ]
  },
  {
   "cell_type": "code",
   "execution_count": 8,
   "id": "ed6a2c35",
   "metadata": {},
   "outputs": [
    {
     "name": "stdout",
     "output_type": "stream",
     "text": [
      "                  Formatted Date   Summary  Precip Type  Temperature (C)  \\\n",
      "0  2006-04-01 00:00:00.000 +0200  0.686460    -0.353461         9.472222   \n",
      "1  2006-04-01 01:00:00.000 +0200  0.686460    -0.353461         9.355556   \n",
      "2  2006-04-01 02:00:00.000 +0200  0.227899    -0.353461         9.377778   \n",
      "3  2006-04-01 03:00:00.000 +0200  0.686460    -0.353461         8.288889   \n",
      "4  2006-04-01 04:00:00.000 +0200  0.227899    -0.353461         8.755556   \n",
      "\n",
      "   Apparent Temperature (C)  Humidity  Wind Speed (km/h)  \\\n",
      "0                  7.388889      0.89            14.1197   \n",
      "1                  7.227778      0.86            14.2646   \n",
      "2                  9.377778      0.89             3.9284   \n",
      "3                  5.944444      0.83            14.1036   \n",
      "4                  6.977778      0.83            11.0446   \n",
      "\n",
      "   Wind Bearing (degrees)  Visibility (km)  Loud Cover  Pressure (millibars)  \\\n",
      "0                   251.0          15.8263         0.0               1015.13   \n",
      "1                   259.0          15.8263         0.0               1015.63   \n",
      "2                   204.0          14.9569         0.0               1015.94   \n",
      "3                   269.0          15.8263         0.0               1016.41   \n",
      "4                   259.0          15.8263         0.0               1016.51   \n",
      "\n",
      "   Daily Summary  \n",
      "0       1.202875  \n",
      "1       1.202875  \n",
      "2       1.202875  \n",
      "3       1.202875  \n",
      "4       1.202875  \n"
     ]
    }
   ],
   "source": [
    "print(df.head())"
   ]
  },
  {
   "cell_type": "code",
   "execution_count": 9,
   "id": "5b558e51",
   "metadata": {},
   "outputs": [
    {
     "name": "stdout",
     "output_type": "stream",
     "text": [
      "project sucessful\n"
     ]
    }
   ],
   "source": [
    "print(\"project sucessful\")"
   ]
  }
 ],
 "metadata": {
  "kernelspec": {
   "display_name": "Python 3",
   "language": "python",
   "name": "python3"
  },
  "language_info": {
   "codemirror_mode": {
    "name": "ipython",
    "version": 3
   },
   "file_extension": ".py",
   "mimetype": "text/x-python",
   "name": "python",
   "nbconvert_exporter": "python",
   "pygments_lexer": "ipython3",
   "version": "3.10.10"
  }
 },
 "nbformat": 4,
 "nbformat_minor": 5
}
